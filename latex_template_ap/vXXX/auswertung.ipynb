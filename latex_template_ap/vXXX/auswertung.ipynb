{
 "cells": [
  {
   "cell_type": "code",
   "execution_count": 1,
   "metadata": {},
   "outputs": [],
   "source": [
    "import matplotlib.pyplot as plt\n",
    "import matplotlib as mpl\n",
    "import matplotlib_inline\n",
    "import numpy as np\n",
    "from numpy import sqrt\n",
    "import pandas as pd\n",
    "import scipy.constants as const\n",
    "from scipy.optimize import curve_fit                        # Funktionsfit:     popt, pcov = curve_fit(func, xdata, ydata) \n",
    "from uncertainties import ufloat                            # Fehler:           fehlerwert =  ulfaot(x, err)\n",
    "from uncertainties import unumpy as unp \n",
    "from uncertainties.unumpy import uarray                     # Array von Fehler: fehlerarray =  uarray(array, errarray)\n",
    "from uncertainties.unumpy import (nominal_values as noms,   # Wert:             noms(fehlerwert) = x\n",
    "                                  std_devs as stds)         # Abweichung:       stds(fehlerarray) = errarray"
   ]
  },
  {
   "cell_type": "markdown",
   "metadata": {},
   "source": [
    "Tabelle erstellen:"
   ]
  },
  {
   "cell_type": "code",
   "execution_count": 2,
   "metadata": {},
   "outputs": [
    {
     "name": "stdout",
     "output_type": "stream",
     "text": [
      "\\begin{tabular}{c c}\n",
      "\\toprule\n",
      " f/kHz &   U/V \\\\\n",
      "\\midrule\n",
      "  20,0 & 0,085 \\\\\n",
      "  22,5 & 0,110 \\\\\n",
      "  25,0 & 0,150 \\\\\n",
      "  27,0 & 0,190 \\\\\n",
      "  30,0 & 0,310 \\\\\n",
      "  32,8 & 0,800 \\\\\n",
      "  33,3 & 1,200 \\\\\n",
      "  34,1 & 1,900 \\\\\n",
      "  35,4 & 2,000 \\\\\n",
      "  36,0 & 1,600 \\\\\n",
      "  36,9 & 0,840 \\\\\n",
      "  38,3 & 0,530 \\\\\n",
      "  39,3 & 0,410 \\\\\n",
      "\\bottomrule\n",
      "\\end{tabular}\n",
      "\n"
     ]
    }
   ],
   "source": [
    "md = pd.read_csv('tables/md.csv')\n",
    "# md_a = md.iloc[:, [0,1]]\n",
    "print(md.to_latex(index = False, column_format= \"c c\", decimal=',')) "
   ]
  },
  {
   "cell_type": "markdown",
   "metadata": {},
   "source": [
    "Daten auswerten:"
   ]
  },
  {
   "cell_type": "code",
   "execution_count": 3,
   "metadata": {},
   "outputs": [],
   "source": [
    "np.savetxt('tables/U.txt', md.values, header='nu/Hz U/V', fmt='%.3f')\n",
    "nu, U = np.genfromtxt('tables/U.txt', unpack=True, skip_header=1)\n",
    "U = U/(2*0.9892978920131985)            # Normierung \n",
    "\n",
    "# für den initial guess bei curvefit()\n",
    "n = len(nu)                             # Anzahl der Daten\n",
    "mean = sum(nu*U)/n                      # Mittelwert\n",
    "sigma = np.sqrt(sum(U*(nu - mean)**2))  # Standardabweichung\n",
    "\n",
    "# Ausgleichsrechung nach Gaußverteilung\n",
    "def g(x,a,x0,b):\n",
    "    return a*np.exp(-(x-x0)**2/(b))     # b = 2*sigma**2\n",
    "\n",
    "para, pcov = curve_fit(g, nu, U, p0=[1,mean,sigma])\n",
    "a, nu0, b = para\n",
    "pcov = np.sqrt(np.diag(pcov))\n",
    "fa, fnu0, fb = pcov\n",
    "ua = ufloat(a, fa) \n",
    "ub = ufloat(b, fb)\n",
    "unu0 = ufloat(nu0, fnu0)\n"
   ]
  },
  {
   "cell_type": "markdown",
   "metadata": {},
   "source": [
    "Fehler berechnen:"
   ]
  },
  {
   "cell_type": "code",
   "execution_count": 4,
   "metadata": {},
   "outputs": [
    {
     "name": "stdout",
     "output_type": "stream",
     "text": [
      "a = (1.000 ± 0.074)\n",
      "b = (6.100 ± 1.218)\n",
      "U0 = 1.0000033945665405\n"
     ]
    }
   ],
   "source": [
    "print('a = (%.3f ± %.3f)' % (noms(ua), stds(ua)))\n",
    "print('b = (%.3f ± %.3f)' % (noms(b), stds(ub)))\n",
    "print('U0 =', g(nu0, a, nu0, b))"
   ]
  },
  {
   "cell_type": "markdown",
   "metadata": {},
   "source": [
    "Plot erstellen:"
   ]
  },
  {
   "cell_type": "code",
   "execution_count": 9,
   "metadata": {},
   "outputs": [
    {
     "data": {
      "text/plain": [
       "(-0.05, 1.05)"
      ]
     },
     "execution_count": 9,
     "metadata": {},
     "output_type": "execute_result"
    },
    {
     "data": {
      "image/png": "[encoded data removed]",
      "text/plain": [
       "<Figure size 648x432 with 1 Axes>"
      ]
     },
     "metadata": {
      "needs_background": "light"
     },
     "output_type": "display_data"
    }
   ],
   "source": [
    "plt.figure(figsize=(9, 6))              # Größe des Plots\n",
    "\n",
    "xx = np.linspace(18, 42, 10**4)         # Definitionsbereich\n",
    "\n",
    "plt.plot(nu, U, 'xr', markersize=6 , label = 'Messdaten', alpha=0.5)\n",
    "plt.plot(xx, g(xx, *para), '-b', linewidth = 1, label = 'Ausgleichsfunktion', alpha=0.5)\n",
    "plt.xlabel(r'$\\nu \\, / \\, \\mathrm{kHz}$')\n",
    "plt.ylabel(r'$U_A \\, / \\, U_E$')\n",
    "plt.legend(loc=\"best\")                  # legend position\n",
    "plt.grid(True)                          # grid style\n",
    "plt.xlim(22, 40)\n",
    "plt.ylim(-0.05, 1.05)"
   ]
  }
 ],
 "metadata": {
  "kernelspec": {
   "display_name": "Python 3.8.8 ('base')",
   "language": "python",
   "name": "python3"
  },
  "language_info": {
   "codemirror_mode": {
    "name": "ipython",
    "version": 3
   },
   "file_extension": ".py",
   "mimetype": "text/x-python",
   "name": "python",
   "nbconvert_exporter": "python",
   "pygments_lexer": "ipython3",
   "version": "3.8.8"
  },
  "orig_nbformat": 4,
  "vscode": {
   "interpreter": {
    "hash": "35caa7b82a3757becf5a71cac731e28ec147500c0075d0177139a56986d9e143"
   }
  }
 },
 "nbformat": 4,
 "nbformat_minor": 2
}
